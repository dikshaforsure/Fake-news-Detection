{
 "cells": [
  {
   "cell_type": "code",
   "execution_count": 1,
   "id": "bb13e11f-1f9c-4cd9-b26d-3efc5c7bad66",
   "metadata": {},
   "outputs": [],
   "source": [
    "import numpy as np\n",
    "import pandas as pd\n",
    "import tensorflow as tf\n",
    "from sklearn.model_selection import train_test_split\n",
    "from sklearn import preprocessing\n",
    "from tensorflow.keras.preprocessing.text import Tokenizer\n",
    "from tensorflow.keras.preprocessing.sequence import pad_sequences"
   ]
  },
  {
   "cell_type": "code",
   "execution_count": 2,
   "id": "23ab585a-d315-496f-878d-2b530dffad9c",
   "metadata": {},
   "outputs": [
    {
     "data": {
      "text/html": [
       "<div>\n",
       "<style scoped>\n",
       "    .dataframe tbody tr th:only-of-type {\n",
       "        vertical-align: middle;\n",
       "    }\n",
       "\n",
       "    .dataframe tbody tr th {\n",
       "        vertical-align: top;\n",
       "    }\n",
       "\n",
       "    .dataframe thead th {\n",
       "        text-align: right;\n",
       "    }\n",
       "</style>\n",
       "<table border=\"1\" class=\"dataframe\">\n",
       "  <thead>\n",
       "    <tr style=\"text-align: right;\">\n",
       "      <th></th>\n",
       "      <th>Unnamed: 0</th>\n",
       "      <th>title</th>\n",
       "      <th>text</th>\n",
       "      <th>label</th>\n",
       "    </tr>\n",
       "  </thead>\n",
       "  <tbody>\n",
       "    <tr>\n",
       "      <th>0</th>\n",
       "      <td>8476</td>\n",
       "      <td>You Can Smell Hillary’s Fear</td>\n",
       "      <td>Daniel Greenfield, a Shillman Journalism Fello...</td>\n",
       "      <td>FAKE</td>\n",
       "    </tr>\n",
       "    <tr>\n",
       "      <th>1</th>\n",
       "      <td>10294</td>\n",
       "      <td>Watch The Exact Moment Paul Ryan Committed Pol...</td>\n",
       "      <td>Google Pinterest Digg Linkedin Reddit Stumbleu...</td>\n",
       "      <td>FAKE</td>\n",
       "    </tr>\n",
       "    <tr>\n",
       "      <th>2</th>\n",
       "      <td>3608</td>\n",
       "      <td>Kerry to go to Paris in gesture of sympathy</td>\n",
       "      <td>U.S. Secretary of State John F. Kerry said Mon...</td>\n",
       "      <td>REAL</td>\n",
       "    </tr>\n",
       "    <tr>\n",
       "      <th>3</th>\n",
       "      <td>10142</td>\n",
       "      <td>Bernie supporters on Twitter erupt in anger ag...</td>\n",
       "      <td>— Kaydee King (@KaydeeKing) November 9, 2016 T...</td>\n",
       "      <td>FAKE</td>\n",
       "    </tr>\n",
       "    <tr>\n",
       "      <th>4</th>\n",
       "      <td>875</td>\n",
       "      <td>The Battle of New York: Why This Primary Matters</td>\n",
       "      <td>It's primary day in New York and front-runners...</td>\n",
       "      <td>REAL</td>\n",
       "    </tr>\n",
       "  </tbody>\n",
       "</table>\n",
       "</div>"
      ],
      "text/plain": [
       "   Unnamed: 0                                              title  \\\n",
       "0        8476                       You Can Smell Hillary’s Fear   \n",
       "1       10294  Watch The Exact Moment Paul Ryan Committed Pol...   \n",
       "2        3608        Kerry to go to Paris in gesture of sympathy   \n",
       "3       10142  Bernie supporters on Twitter erupt in anger ag...   \n",
       "4         875   The Battle of New York: Why This Primary Matters   \n",
       "\n",
       "                                                text label  \n",
       "0  Daniel Greenfield, a Shillman Journalism Fello...  FAKE  \n",
       "1  Google Pinterest Digg Linkedin Reddit Stumbleu...  FAKE  \n",
       "2  U.S. Secretary of State John F. Kerry said Mon...  REAL  \n",
       "3  — Kaydee King (@KaydeeKing) November 9, 2016 T...  FAKE  \n",
       "4  It's primary day in New York and front-runners...  REAL  "
      ]
     },
     "execution_count": 2,
     "metadata": {},
     "output_type": "execute_result"
    }
   ],
   "source": [
    "data = pd.read_csv(\"news.csv\")\n",
    "data.head()"
   ]
  },
  {
   "cell_type": "code",
   "execution_count": 3,
   "id": "7cefc2cd-12c9-4c2a-8524-02021fc35faa",
   "metadata": {},
   "outputs": [
    {
     "data": {
      "text/html": [
       "<div>\n",
       "<style scoped>\n",
       "    .dataframe tbody tr th:only-of-type {\n",
       "        vertical-align: middle;\n",
       "    }\n",
       "\n",
       "    .dataframe tbody tr th {\n",
       "        vertical-align: top;\n",
       "    }\n",
       "\n",
       "    .dataframe thead th {\n",
       "        text-align: right;\n",
       "    }\n",
       "</style>\n",
       "<table border=\"1\" class=\"dataframe\">\n",
       "  <thead>\n",
       "    <tr style=\"text-align: right;\">\n",
       "      <th></th>\n",
       "      <th>title</th>\n",
       "      <th>text</th>\n",
       "      <th>label</th>\n",
       "    </tr>\n",
       "  </thead>\n",
       "  <tbody>\n",
       "    <tr>\n",
       "      <th>0</th>\n",
       "      <td>You Can Smell Hillary’s Fear</td>\n",
       "      <td>Daniel Greenfield, a Shillman Journalism Fello...</td>\n",
       "      <td>FAKE</td>\n",
       "    </tr>\n",
       "    <tr>\n",
       "      <th>1</th>\n",
       "      <td>Watch The Exact Moment Paul Ryan Committed Pol...</td>\n",
       "      <td>Google Pinterest Digg Linkedin Reddit Stumbleu...</td>\n",
       "      <td>FAKE</td>\n",
       "    </tr>\n",
       "    <tr>\n",
       "      <th>2</th>\n",
       "      <td>Kerry to go to Paris in gesture of sympathy</td>\n",
       "      <td>U.S. Secretary of State John F. Kerry said Mon...</td>\n",
       "      <td>REAL</td>\n",
       "    </tr>\n",
       "    <tr>\n",
       "      <th>3</th>\n",
       "      <td>Bernie supporters on Twitter erupt in anger ag...</td>\n",
       "      <td>— Kaydee King (@KaydeeKing) November 9, 2016 T...</td>\n",
       "      <td>FAKE</td>\n",
       "    </tr>\n",
       "    <tr>\n",
       "      <th>4</th>\n",
       "      <td>The Battle of New York: Why This Primary Matters</td>\n",
       "      <td>It's primary day in New York and front-runners...</td>\n",
       "      <td>REAL</td>\n",
       "    </tr>\n",
       "  </tbody>\n",
       "</table>\n",
       "</div>"
      ],
      "text/plain": [
       "                                               title  \\\n",
       "0                       You Can Smell Hillary’s Fear   \n",
       "1  Watch The Exact Moment Paul Ryan Committed Pol...   \n",
       "2        Kerry to go to Paris in gesture of sympathy   \n",
       "3  Bernie supporters on Twitter erupt in anger ag...   \n",
       "4   The Battle of New York: Why This Primary Matters   \n",
       "\n",
       "                                                text label  \n",
       "0  Daniel Greenfield, a Shillman Journalism Fello...  FAKE  \n",
       "1  Google Pinterest Digg Linkedin Reddit Stumbleu...  FAKE  \n",
       "2  U.S. Secretary of State John F. Kerry said Mon...  REAL  \n",
       "3  — Kaydee King (@KaydeeKing) November 9, 2016 T...  FAKE  \n",
       "4  It's primary day in New York and front-runners...  REAL  "
      ]
     },
     "execution_count": 3,
     "metadata": {},
     "output_type": "execute_result"
    }
   ],
   "source": [
    "data = data.drop([\"Unnamed: 0\"], axis=1)\n",
    "data.head(5)"
   ]
  },
  {
   "cell_type": "code",
   "execution_count": 4,
   "id": "78ef380c-1278-47e4-8b63-1e2b698bd1b0",
   "metadata": {},
   "outputs": [],
   "source": [
    "le = preprocessing.LabelEncoder()\n",
    "le.fit(data['label'])\n",
    "data['label'] = le.transform(data['label'])"
   ]
  },
  {
   "cell_type": "code",
   "execution_count": 5,
   "id": "5837c31f-b663-4a2b-af06-83fd7fc95ee4",
   "metadata": {},
   "outputs": [],
   "source": [
    "embedding_dim = 50\n",
    "max_length = 54\n",
    "padding_type = 'post'\n",
    "trunc_type = 'post'\n",
    "oov_tok = \"<OOV>\"\n",
    "training_size = 3000\n",
    "test_portion = 0.1"
   ]
  },
  {
   "cell_type": "code",
   "execution_count": 6,
   "id": "5ecd2664-308b-4168-a818-283508cd7870",
   "metadata": {},
   "outputs": [],
   "source": [
    "title = []\n",
    "text = []\n",
    "labels = []\n",
    "for x in range(training_size):\n",
    "    title.append(data['title'][x])\n",
    "    text.append(data['text'][x])\n",
    "    labels.append(data['label'][x])\n",
    "\n",
    "tokenizer1 = Tokenizer()\n",
    "tokenizer1.fit_on_texts(title)\n",
    "word_index1 = tokenizer1.word_index\n",
    "vocab_size1 = len(word_index1)\n",
    "sequences1 = tokenizer1.texts_to_sequences(title)\n",
    "padded1 = pad_sequences(sequences1, padding=padding_type, truncating=trunc_type)"
   ]
  },
  {
   "cell_type": "code",
   "execution_count": 7,
   "id": "7779d943-7d55-4420-8cb3-5b78a9a769c1",
   "metadata": {},
   "outputs": [],
   "source": [
    "split = int(test_portion * training_size)\n",
    "training_sequences1 = padded1[split:training_size]\n",
    "test_sequences1 = padded1[0:split]\n",
    "test_labels = labels[0:split]\n",
    "training_labels = labels[split:training_size]"
   ]
  },
  {
   "cell_type": "code",
   "execution_count": 8,
   "id": "96bfae60-43c7-4a17-8320-83c360fe8d99",
   "metadata": {},
   "outputs": [],
   "source": [
    "training_sequences1 = np.array(training_sequences1)\n",
    "test_sequences1 = np.array(test_sequences1)"
   ]
  },
  {
   "cell_type": "code",
   "execution_count": 23,
   "id": "33f9785a-4c34-458e-8fff-670e7f6a9be0",
   "metadata": {},
   "outputs": [
    {
     "name": "stdout",
     "output_type": "stream",
     "text": [
      "Unzipping files...\n",
      "Unzipping complete. Files are in: glove\n"
     ]
    }
   ],
   "source": [
    "import zipfile\n",
    "\n",
    "zip_path = \"glove.6B.zip\"   # or full path if not in notebook folder\n",
    "extract_path = \"glove\"\n",
    "\n",
    "print(\"Unzipping files...\")\n",
    "with zipfile.ZipFile(zip_path, 'r') as zip_ref:\n",
    "    zip_ref.extractall(extract_path)\n",
    "print(\"Unzipping complete. Files are in:\", extract_path)"
   ]
  },
  {
   "cell_type": "code",
   "execution_count": 33,
   "id": "0339fa0c-f291-459d-91fd-f00d590e488b",
   "metadata": {},
   "outputs": [],
   "source": [
    "embedding_index = {}\n",
    "with open(\"glove/glove.6B.50d.txt\", \"r\", encoding=\"utf-8\") as f:\n",
    "    for line in f:\n",
    "        values = line.split()\n",
    "        word = values[0]\n",
    "        coefs = np.asarray(values[1:], dtype='float32')\n",
    "        embedding_index[word] = coefs\n",
    "        \n",
    "embedding_matrix = np.zeros((vocab_size1 + 1, embedding_dim))\n",
    "\n",
    "for word, i in word_index1.items():\n",
    "    if i < vocab_size1:\n",
    "        embedding_vector = embedding_index.get(word)\n",
    "        if embedding_vector is not None:\n",
    "            embedding_matrix[i] = embedding_vector"
   ]
  },
  {
   "cell_type": "code",
   "execution_count": 35,
   "id": "330fa85c-5fb1-4356-87cd-ae74e52ead4e",
   "metadata": {},
   "outputs": [
    {
     "data": {
      "text/html": [
       "<pre style=\"white-space:pre;overflow-x:auto;line-height:normal;font-family:Menlo,'DejaVu Sans Mono',consolas,'Courier New',monospace\"><span style=\"font-weight: bold\">Model: \"sequential_1\"</span>\n",
       "</pre>\n"
      ],
      "text/plain": [
       "\u001b[1mModel: \"sequential_1\"\u001b[0m\n"
      ]
     },
     "metadata": {},
     "output_type": "display_data"
    },
    {
     "data": {
      "text/html": [
       "<pre style=\"white-space:pre;overflow-x:auto;line-height:normal;font-family:Menlo,'DejaVu Sans Mono',consolas,'Courier New',monospace\">┏━━━━━━━━━━━━━━━━━━━━━━━━━━━━━━━━━━━━━━┳━━━━━━━━━━━━━━━━━━━━━━━━━━━━━┳━━━━━━━━━━━━━━━━━┓\n",
       "┃<span style=\"font-weight: bold\"> Layer (type)                         </span>┃<span style=\"font-weight: bold\"> Output Shape                </span>┃<span style=\"font-weight: bold\">         Param # </span>┃\n",
       "┡━━━━━━━━━━━━━━━━━━━━━━━━━━━━━━━━━━━━━━╇━━━━━━━━━━━━━━━━━━━━━━━━━━━━━╇━━━━━━━━━━━━━━━━━┩\n",
       "│ embedding_1 (<span style=\"color: #0087ff; text-decoration-color: #0087ff\">Embedding</span>)              │ ?                           │         <span style=\"color: #00af00; text-decoration-color: #00af00\">377,600</span> │\n",
       "├──────────────────────────────────────┼─────────────────────────────┼─────────────────┤\n",
       "│ dropout_1 (<span style=\"color: #0087ff; text-decoration-color: #0087ff\">Dropout</span>)                  │ ?                           │               <span style=\"color: #00af00; text-decoration-color: #00af00\">0</span> │\n",
       "├──────────────────────────────────────┼─────────────────────────────┼─────────────────┤\n",
       "│ conv1d_1 (<span style=\"color: #0087ff; text-decoration-color: #0087ff\">Conv1D</span>)                    │ ?                           │     <span style=\"color: #00af00; text-decoration-color: #00af00\">0</span> (unbuilt) │\n",
       "├──────────────────────────────────────┼─────────────────────────────┼─────────────────┤\n",
       "│ max_pooling1d_1 (<span style=\"color: #0087ff; text-decoration-color: #0087ff\">MaxPooling1D</span>)       │ ?                           │               <span style=\"color: #00af00; text-decoration-color: #00af00\">0</span> │\n",
       "├──────────────────────────────────────┼─────────────────────────────┼─────────────────┤\n",
       "│ lstm_1 (<span style=\"color: #0087ff; text-decoration-color: #0087ff\">LSTM</span>)                        │ ?                           │     <span style=\"color: #00af00; text-decoration-color: #00af00\">0</span> (unbuilt) │\n",
       "├──────────────────────────────────────┼─────────────────────────────┼─────────────────┤\n",
       "│ dense_1 (<span style=\"color: #0087ff; text-decoration-color: #0087ff\">Dense</span>)                      │ ?                           │     <span style=\"color: #00af00; text-decoration-color: #00af00\">0</span> (unbuilt) │\n",
       "└──────────────────────────────────────┴─────────────────────────────┴─────────────────┘\n",
       "</pre>\n"
      ],
      "text/plain": [
       "┏━━━━━━━━━━━━━━━━━━━━━━━━━━━━━━━━━━━━━━┳━━━━━━━━━━━━━━━━━━━━━━━━━━━━━┳━━━━━━━━━━━━━━━━━┓\n",
       "┃\u001b[1m \u001b[0m\u001b[1mLayer (type)                        \u001b[0m\u001b[1m \u001b[0m┃\u001b[1m \u001b[0m\u001b[1mOutput Shape               \u001b[0m\u001b[1m \u001b[0m┃\u001b[1m \u001b[0m\u001b[1m        Param #\u001b[0m\u001b[1m \u001b[0m┃\n",
       "┡━━━━━━━━━━━━━━━━━━━━━━━━━━━━━━━━━━━━━━╇━━━━━━━━━━━━━━━━━━━━━━━━━━━━━╇━━━━━━━━━━━━━━━━━┩\n",
       "│ embedding_1 (\u001b[38;5;33mEmbedding\u001b[0m)              │ ?                           │         \u001b[38;5;34m377,600\u001b[0m │\n",
       "├──────────────────────────────────────┼─────────────────────────────┼─────────────────┤\n",
       "│ dropout_1 (\u001b[38;5;33mDropout\u001b[0m)                  │ ?                           │               \u001b[38;5;34m0\u001b[0m │\n",
       "├──────────────────────────────────────┼─────────────────────────────┼─────────────────┤\n",
       "│ conv1d_1 (\u001b[38;5;33mConv1D\u001b[0m)                    │ ?                           │     \u001b[38;5;34m0\u001b[0m (unbuilt) │\n",
       "├──────────────────────────────────────┼─────────────────────────────┼─────────────────┤\n",
       "│ max_pooling1d_1 (\u001b[38;5;33mMaxPooling1D\u001b[0m)       │ ?                           │               \u001b[38;5;34m0\u001b[0m │\n",
       "├──────────────────────────────────────┼─────────────────────────────┼─────────────────┤\n",
       "│ lstm_1 (\u001b[38;5;33mLSTM\u001b[0m)                        │ ?                           │     \u001b[38;5;34m0\u001b[0m (unbuilt) │\n",
       "├──────────────────────────────────────┼─────────────────────────────┼─────────────────┤\n",
       "│ dense_1 (\u001b[38;5;33mDense\u001b[0m)                      │ ?                           │     \u001b[38;5;34m0\u001b[0m (unbuilt) │\n",
       "└──────────────────────────────────────┴─────────────────────────────┴─────────────────┘\n"
      ]
     },
     "metadata": {},
     "output_type": "display_data"
    },
    {
     "data": {
      "text/html": [
       "<pre style=\"white-space:pre;overflow-x:auto;line-height:normal;font-family:Menlo,'DejaVu Sans Mono',consolas,'Courier New',monospace\"><span style=\"font-weight: bold\"> Total params: </span><span style=\"color: #00af00; text-decoration-color: #00af00\">377,600</span> (1.44 MB)\n",
       "</pre>\n"
      ],
      "text/plain": [
       "\u001b[1m Total params: \u001b[0m\u001b[38;5;34m377,600\u001b[0m (1.44 MB)\n"
      ]
     },
     "metadata": {},
     "output_type": "display_data"
    },
    {
     "data": {
      "text/html": [
       "<pre style=\"white-space:pre;overflow-x:auto;line-height:normal;font-family:Menlo,'DejaVu Sans Mono',consolas,'Courier New',monospace\"><span style=\"font-weight: bold\"> Trainable params: </span><span style=\"color: #00af00; text-decoration-color: #00af00\">0</span> (0.00 B)\n",
       "</pre>\n"
      ],
      "text/plain": [
       "\u001b[1m Trainable params: \u001b[0m\u001b[38;5;34m0\u001b[0m (0.00 B)\n"
      ]
     },
     "metadata": {},
     "output_type": "display_data"
    },
    {
     "data": {
      "text/html": [
       "<pre style=\"white-space:pre;overflow-x:auto;line-height:normal;font-family:Menlo,'DejaVu Sans Mono',consolas,'Courier New',monospace\"><span style=\"font-weight: bold\"> Non-trainable params: </span><span style=\"color: #00af00; text-decoration-color: #00af00\">377,600</span> (1.44 MB)\n",
       "</pre>\n"
      ],
      "text/plain": [
       "\u001b[1m Non-trainable params: \u001b[0m\u001b[38;5;34m377,600\u001b[0m (1.44 MB)\n"
      ]
     },
     "metadata": {},
     "output_type": "display_data"
    }
   ],
   "source": [
    "model = tf.keras.Sequential([\n",
    "    tf.keras.layers.Embedding(vocab_size1 + 1, embedding_dim, \n",
    "                              weights=[embedding_matrix], trainable=False),\n",
    "    tf.keras.layers.Dropout(0.2),\n",
    "    tf.keras.layers.Conv1D(64, 5, activation='relu'),\n",
    "    tf.keras.layers.MaxPooling1D(pool_size=4),\n",
    "    tf.keras.layers.LSTM(64),\n",
    "    tf.keras.layers.Dense(1, activation='sigmoid')\n",
    "])\n",
    "\n",
    "model.compile(loss='binary_crossentropy', optimizer='adam', metrics=['accuracy'])\n",
    "model.summary()"
   ]
  },
  {
   "cell_type": "code",
   "execution_count": 36,
   "id": "53b3f7f9-68da-49bc-bce2-4c7df8917345",
   "metadata": {},
   "outputs": [
    {
     "name": "stdout",
     "output_type": "stream",
     "text": [
      "Epoch 1/50\n",
      "85/85 - 13s - 159ms/step - accuracy: 0.6170 - loss: 0.6455 - val_accuracy: 0.6967 - val_loss: 0.5628\n",
      "Epoch 2/50\n",
      "85/85 - 3s - 34ms/step - accuracy: 0.6981 - loss: 0.5700 - val_accuracy: 0.7067 - val_loss: 0.5408\n",
      "Epoch 3/50\n",
      "85/85 - 3s - 34ms/step - accuracy: 0.7356 - loss: 0.5270 - val_accuracy: 0.7367 - val_loss: 0.4984\n",
      "Epoch 4/50\n",
      "85/85 - 2s - 18ms/step - accuracy: 0.7759 - loss: 0.4659 - val_accuracy: 0.7500 - val_loss: 0.4941\n",
      "Epoch 5/50\n",
      "85/85 - 2s - 22ms/step - accuracy: 0.8067 - loss: 0.4274 - val_accuracy: 0.7400 - val_loss: 0.5238\n",
      "Epoch 6/50\n",
      "85/85 - 1s - 17ms/step - accuracy: 0.8304 - loss: 0.3907 - val_accuracy: 0.7567 - val_loss: 0.4890\n",
      "Epoch 7/50\n",
      "85/85 - 3s - 31ms/step - accuracy: 0.8604 - loss: 0.3406 - val_accuracy: 0.7833 - val_loss: 0.5109\n",
      "Epoch 8/50\n",
      "85/85 - 1s - 16ms/step - accuracy: 0.8641 - loss: 0.3154 - val_accuracy: 0.7700 - val_loss: 0.4624\n",
      "Epoch 9/50\n",
      "85/85 - 2s - 29ms/step - accuracy: 0.8859 - loss: 0.2675 - val_accuracy: 0.7633 - val_loss: 0.5508\n",
      "Epoch 10/50\n",
      "85/85 - 2s - 18ms/step - accuracy: 0.9100 - loss: 0.2353 - val_accuracy: 0.7633 - val_loss: 0.5531\n",
      "Epoch 11/50\n",
      "85/85 - 2s - 27ms/step - accuracy: 0.9063 - loss: 0.2245 - val_accuracy: 0.7800 - val_loss: 0.5143\n",
      "Epoch 12/50\n",
      "85/85 - 2s - 29ms/step - accuracy: 0.9207 - loss: 0.1939 - val_accuracy: 0.7733 - val_loss: 0.5976\n",
      "Epoch 13/50\n",
      "85/85 - 3s - 31ms/step - accuracy: 0.9241 - loss: 0.1967 - val_accuracy: 0.7767 - val_loss: 0.5301\n",
      "Epoch 14/50\n",
      "85/85 - 2s - 29ms/step - accuracy: 0.9285 - loss: 0.1823 - val_accuracy: 0.7267 - val_loss: 0.8051\n",
      "Epoch 15/50\n",
      "85/85 - 3s - 32ms/step - accuracy: 0.9274 - loss: 0.1834 - val_accuracy: 0.7400 - val_loss: 0.6720\n",
      "Epoch 16/50\n",
      "85/85 - 3s - 36ms/step - accuracy: 0.9337 - loss: 0.1720 - val_accuracy: 0.7600 - val_loss: 0.6895\n",
      "Epoch 17/50\n",
      "85/85 - 1s - 17ms/step - accuracy: 0.9419 - loss: 0.1520 - val_accuracy: 0.7367 - val_loss: 0.7050\n",
      "Epoch 18/50\n",
      "85/85 - 3s - 35ms/step - accuracy: 0.9452 - loss: 0.1364 - val_accuracy: 0.7433 - val_loss: 0.7030\n",
      "Epoch 19/50\n",
      "85/85 - 2s - 18ms/step - accuracy: 0.9407 - loss: 0.1494 - val_accuracy: 0.7267 - val_loss: 0.8456\n",
      "Epoch 20/50\n",
      "85/85 - 3s - 35ms/step - accuracy: 0.9441 - loss: 0.1394 - val_accuracy: 0.7733 - val_loss: 0.7556\n",
      "Epoch 21/50\n",
      "85/85 - 1s - 16ms/step - accuracy: 0.9544 - loss: 0.1230 - val_accuracy: 0.7333 - val_loss: 0.7621\n",
      "Epoch 22/50\n",
      "85/85 - 2s - 28ms/step - accuracy: 0.9548 - loss: 0.1228 - val_accuracy: 0.7533 - val_loss: 0.8204\n",
      "Epoch 23/50\n",
      "85/85 - 2s - 18ms/step - accuracy: 0.9556 - loss: 0.1140 - val_accuracy: 0.7467 - val_loss: 0.8748\n",
      "Epoch 24/50\n",
      "85/85 - 3s - 35ms/step - accuracy: 0.9626 - loss: 0.0972 - val_accuracy: 0.7433 - val_loss: 0.9566\n",
      "Epoch 25/50\n",
      "85/85 - 3s - 33ms/step - accuracy: 0.9630 - loss: 0.1005 - val_accuracy: 0.7433 - val_loss: 0.9542\n",
      "Epoch 26/50\n",
      "85/85 - 1s - 17ms/step - accuracy: 0.9715 - loss: 0.0741 - val_accuracy: 0.7233 - val_loss: 1.0234\n",
      "Epoch 27/50\n",
      "85/85 - 2s - 27ms/step - accuracy: 0.9619 - loss: 0.1016 - val_accuracy: 0.7500 - val_loss: 0.8219\n",
      "Epoch 28/50\n",
      "85/85 - 1s - 17ms/step - accuracy: 0.9593 - loss: 0.1062 - val_accuracy: 0.7433 - val_loss: 0.6769\n",
      "Epoch 29/50\n",
      "85/85 - 2s - 27ms/step - accuracy: 0.9730 - loss: 0.0809 - val_accuracy: 0.7200 - val_loss: 0.8957\n",
      "Epoch 30/50\n",
      "85/85 - 1s - 17ms/step - accuracy: 0.9700 - loss: 0.0856 - val_accuracy: 0.7367 - val_loss: 0.8602\n",
      "Epoch 31/50\n",
      "85/85 - 3s - 30ms/step - accuracy: 0.9730 - loss: 0.0742 - val_accuracy: 0.7167 - val_loss: 1.0434\n",
      "Epoch 32/50\n",
      "85/85 - 2s - 18ms/step - accuracy: 0.9693 - loss: 0.0838 - val_accuracy: 0.7633 - val_loss: 0.7830\n",
      "Epoch 33/50\n",
      "85/85 - 2s - 29ms/step - accuracy: 0.9730 - loss: 0.0791 - val_accuracy: 0.7433 - val_loss: 0.7741\n",
      "Epoch 34/50\n",
      "85/85 - 2s - 18ms/step - accuracy: 0.9730 - loss: 0.0749 - val_accuracy: 0.7433 - val_loss: 0.8638\n",
      "Epoch 35/50\n",
      "85/85 - 3s - 31ms/step - accuracy: 0.9778 - loss: 0.0684 - val_accuracy: 0.7200 - val_loss: 1.0497\n",
      "Epoch 36/50\n",
      "85/85 - 4s - 48ms/step - accuracy: 0.9696 - loss: 0.0714 - val_accuracy: 0.7300 - val_loss: 0.8641\n",
      "Epoch 37/50\n",
      "85/85 - 1s - 18ms/step - accuracy: 0.9730 - loss: 0.0678 - val_accuracy: 0.7700 - val_loss: 0.9763\n",
      "Epoch 38/50\n",
      "85/85 - 3s - 30ms/step - accuracy: 0.9767 - loss: 0.0616 - val_accuracy: 0.7567 - val_loss: 0.9081\n",
      "Epoch 39/50\n",
      "85/85 - 3s - 32ms/step - accuracy: 0.9737 - loss: 0.0700 - val_accuracy: 0.7467 - val_loss: 0.8361\n",
      "Epoch 40/50\n",
      "85/85 - 4s - 46ms/step - accuracy: 0.9804 - loss: 0.0551 - val_accuracy: 0.7533 - val_loss: 0.9958\n",
      "Epoch 41/50\n",
      "85/85 - 1s - 16ms/step - accuracy: 0.9719 - loss: 0.0678 - val_accuracy: 0.7100 - val_loss: 0.9997\n",
      "Epoch 42/50\n",
      "85/85 - 3s - 29ms/step - accuracy: 0.9815 - loss: 0.0576 - val_accuracy: 0.7567 - val_loss: 1.0504\n",
      "Epoch 43/50\n",
      "85/85 - 2s - 18ms/step - accuracy: 0.9674 - loss: 0.0832 - val_accuracy: 0.7500 - val_loss: 0.7962\n",
      "Epoch 44/50\n",
      "85/85 - 3s - 34ms/step - accuracy: 0.9793 - loss: 0.0602 - val_accuracy: 0.7133 - val_loss: 1.0482\n",
      "Epoch 45/50\n",
      "85/85 - 2s - 18ms/step - accuracy: 0.9763 - loss: 0.0625 - val_accuracy: 0.7233 - val_loss: 0.9855\n",
      "Epoch 46/50\n",
      "85/85 - 2s - 29ms/step - accuracy: 0.9748 - loss: 0.0660 - val_accuracy: 0.7333 - val_loss: 0.9432\n",
      "Epoch 47/50\n",
      "85/85 - 1s - 17ms/step - accuracy: 0.9785 - loss: 0.0621 - val_accuracy: 0.7433 - val_loss: 0.9536\n",
      "Epoch 48/50\n",
      "85/85 - 2s - 26ms/step - accuracy: 0.9807 - loss: 0.0526 - val_accuracy: 0.7600 - val_loss: 1.0121\n",
      "Epoch 49/50\n",
      "85/85 - 3s - 36ms/step - accuracy: 0.9793 - loss: 0.0458 - val_accuracy: 0.7533 - val_loss: 0.9492\n",
      "Epoch 50/50\n",
      "85/85 - 1s - 18ms/step - accuracy: 0.9796 - loss: 0.0512 - val_accuracy: 0.7433 - val_loss: 1.0554\n"
     ]
    }
   ],
   "source": [
    "history = model.fit(\n",
    "    training_sequences1, \n",
    "    np.array(training_labels), \n",
    "    epochs=50, \n",
    "    validation_data=(test_sequences1, np.array(test_labels)), \n",
    "    verbose=2\n",
    ")"
   ]
  },
  {
   "cell_type": "code",
   "execution_count": 37,
   "id": "5017a8f0-a762-49e7-9fad-e4b8d68b3758",
   "metadata": {},
   "outputs": [
    {
     "name": "stdout",
     "output_type": "stream",
     "text": [
      "This news is False\n"
     ]
    }
   ],
   "source": [
    "X = \"Karry to go to France in gesture of sympathy\"\n",
    "\n",
    "sequences = tokenizer1.texts_to_sequences([X])\n",
    "sequences = pad_sequences(sequences, maxlen=max_length, padding=padding_type, truncating=trunc_type)\n",
    "if model.predict(sequences, verbose=0)[0][0] >= 0.5:\n",
    "    print(\"This news is True\")\n",
    "else:\n",
    "    print(\"This news is False\")"
   ]
  }
 ],
 "metadata": {
  "kernelspec": {
   "display_name": "Python 3 (ipykernel)",
   "language": "python",
   "name": "python3"
  },
  "language_info": {
   "codemirror_mode": {
    "name": "ipython",
    "version": 3
   },
   "file_extension": ".py",
   "mimetype": "text/x-python",
   "name": "python",
   "nbconvert_exporter": "python",
   "pygments_lexer": "ipython3",
   "version": "3.12.7"
  }
 },
 "nbformat": 4,
 "nbformat_minor": 5
}
